

for i in range(4, -1, -1):
    print(i)

4
3
2
1
0

help(range)

for i in range(0, -1, -1):
    print(i)

0

for i, j in zip(range(2, 4), range(0, 1)):
    print(i, j)

2 0

for i, j in zip(range(2, 4, 1), range(1, -1, -1)):
    print(i, j)

2 1
3 0

board = [[0] * 4 for _ in range(4)]
board

[[0, 0, 0, 0], [0, 0, 0, 0], [0, 0, 0, 0], [0, 0, 0, 0]]

res = False or True
res

True

def countdown(val):
    if val == 0:
        print("Done")
        return
    else:
        print(val, "....")
        countdown(val-1)
        print(f"Stack: {val}")

countdown(5)

5 ....
4 ....
3 ....
2 ....
1 ....
Done
Stack: 1
Stack: 2
Stack: 3
Stack: 4
Stack: 5

 


